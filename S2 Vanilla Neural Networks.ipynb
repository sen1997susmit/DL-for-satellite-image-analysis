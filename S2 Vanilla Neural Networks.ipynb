{
 "cells": [
  {
   "cell_type": "markdown",
   "metadata": {},
   "source": [
    "# Section 2: Vanilla Neural Networks\n",
    "\n",
    "From this point onward, we will only deal with Neural Networks. In this section, let's try to develop simple neural networks (vanilla neural networks). Basically neural networks can be considered as universal function approximators. So, in this section, we will develop arbitrarily complicated functions going beyond simple linear and logistic functions, which we have done in the last section.\n",
    "\n",
    "Following examples are covered during this section\n",
    "\n",
    "    1) Regression with Neural Networks\n",
    "\n",
    "    2) Classification (2 Classes) with Neural Networks\n",
    "\n",
    "    3) Classification (Multi Classes) with Neural Networks"
   ]
  },
  {
   "cell_type": "markdown",
   "metadata": {},
   "source": [
    "<hr>\n",
    "<hr>\n",
    "<hr>"
   ]
  },
  {
   "cell_type": "code",
   "execution_count": 2,
   "metadata": {
    "colab": {},
    "colab_type": "code",
    "id": "959wCOJ6DPr7"
   },
   "outputs": [],
   "source": [
    "'''first, let's import libraries '''\n",
    "\n",
    "import numpy as np\n",
    "import matplotlib.pyplot as plt\n",
    "from sklearn import datasets\n",
    "\n",
    "from tensorflow.python.keras import Sequential\n",
    "from tensorflow.python.keras.layers import Dense"
   ]
  },
  {
   "cell_type": "markdown",
   "metadata": {
    "colab_type": "text",
    "id": "N-dTXUu4DYCQ"
   },
   "source": [
    "## 1) Regression with Nural Networks\n",
    "\n",
    "Again here, we will use diabetes dataset from sklearn library"
   ]
  },
  {
   "cell_type": "code",
   "execution_count": 3,
   "metadata": {
    "colab": {
     "base_uri": "https://localhost:8080/",
     "height": 588
    },
    "colab_type": "code",
    "executionInfo": {
     "elapsed": 1198,
     "status": "ok",
     "timestamp": 1586143570841,
     "user": {
      "displayName": "lakmal Lakmal",
      "photoUrl": "",
      "userId": "15890829342024976793"
     },
     "user_tz": -420
    },
    "id": "DvKdXe1EhhjU",
    "outputId": "a87ffc9e-ce96-4606-8fe7-820c4ab7e60b"
   },
   "outputs": [
    {
     "name": "stdout",
     "output_type": "stream",
     "text": [
      "(442, 10)\n",
      "(442,)\n"
     ]
    }
   ],
   "source": [
    "xx,yy = datasets.load_diabetes(return_X_y=True)\n",
    "\n",
    "print(xx.shape)\n",
    "print(yy.shape)"
   ]
  },
  {
   "cell_type": "markdown",
   "metadata": {},
   "source": [
    "So, we have data for 442 patients, 10 input variables and 1 output variable. And from now on, we will use a library call Tensorflow (Keras: high level, easy to use part of the Tensorflow library) which has lots of functions related to Neural Networks.\n",
    "\n",
    "In the previous section, we used predefined equations (linear and logistic) to model the data. In case of Neural Networks, we can model arbitrarily complicated function as we prefer, with multiple layers, with multiple neurons in each layer, so on. So theoretically neural networks can be used to approximate any function with large enough number of neurons. There is a mathematical theorem proving this, and it is known as The Universal Approximation Theorem.\n",
    "\n",
    "__Past researches show that, deeper the neural network, it works better. And this is the key idea in Deep Learning.__\n",
    "\n",
    "*This is a nice interactive tool to visualize how vanilla neural networks work and play around with different configuration: https://playground.tensorflow.org/*\n",
    "\n",
    "So let's define our first neural network. There is no any rules here. We can try with different neural network architectures to find the best neural network architecture for our task.\n",
    "\n",
    "Before that, we have to discuss little about activation functions. If we dig little deeper in to neural network architecture, each neuron can be considered as linear model. But the problem is, when we combine multiple neurons linearly, linear combinations of linear equations are also a linear function. So we are not adding any additional complexity to the model. To go around that, we are introducing activation functions (non-linearity) for each neurons. Most common and simplest activation function in known as ReLU (Rectified Linear Unit). More details about activation functions can be seen here https://en.wikipedia.org/wiki/Activation_function\n",
    "\n",
    "Examples of commonly used activation functions:\n",
    "\n",
    "<img src=\"./graphics/activation-functions.PNG\" width=\"40%\"/>\n",
    "<sub>Source of the figure: https://towardsdatascience.com/complete-guide-of-activation-functions-34076e95d044</sub>"
   ]
  },
  {
   "cell_type": "code",
   "execution_count": 4,
   "metadata": {},
   "outputs": [],
   "source": [
    "'''define neural network architecture'''\n",
    "\n",
    "model = Sequential() # initiate the model\n",
    "\n",
    "# add 4 layers. And we have to define input dimension in the first layer. That's how library is designed.\n",
    "model.add(Dense(6, input_dim=10, activation='relu')) # 6 neurons in this layer\n",
    "model.add(Dense(6, activation='relu')) # 6 neurons in this layer\n",
    "model.add(Dense(6, activation='relu')) # 6 neurons in this layer\n",
    "model.add(Dense(1, activation='relu')) # 1 neuron in this layer - corresponding to single output variable\n",
    "\n",
    "model.compile(loss='mean_squared_error', optimizer='adam') # define loss function and optimizer"
   ]
  },
  {
   "cell_type": "markdown",
   "metadata": {},
   "source": [
    "Now we know from Section 1, best model is the model that produces least error / loss. So in this case additionally to defining arbitrary network, we can define which loss function to be minimized in order to produce the best model. For now, let's select simple loss function like mean squared error. So now the goal is to find optimum parameters of the model that minimizes the loss (mean squared error). The method / strategy of finding optimum parameter is called optimizer. In this case, we have chosen optimizer call __*Adam*__ which is a commonly used optimizer in practice. There are many optimizers available in Tensorflow library (have a look Tensorflow documentation for more details).\n",
    "\n",
    "Now we have defined neural network architecture, loss function to evaluate the model, and an optimizer that adjust parameters of the model. Then, let's feed the data into neural network and find the best neural network model that fit the data.\n",
    "\n",
    "Before that, we have to do one more thing. In reality, we will not use the model on the data that we have trained the model. Most likely, we will predict on new data sets which model has never seen during the training process. So, it's better to train the model with one part of the dataset (typically 66%) and evaluate the model on another part of the dataset (typically 33%). These 2 parts of the whole dataset are called as Training and Test (or Validation) dataset. So let's do training and test splitting first and feed these data in to the model for fitting."
   ]
  },
  {
   "cell_type": "code",
   "execution_count": 5,
   "metadata": {
    "colab": {},
    "colab_type": "code",
    "id": "Detl1ZloDps_"
   },
   "outputs": [],
   "source": [
    "'''splitting training and test set'''\n",
    "\n",
    "split_pnt = int(442 * 0.66) # consider 2/3 as the split point. 66.66 % for training set, and 0.33 % for test set.\n",
    "\n",
    "xx_train = xx[:split_pnt,:]\n",
    "yy_train = yy[:split_pnt]\n",
    "\n",
    "xx_test = xx[split_pnt:,:]\n",
    "yy_test = yy[split_pnt:]"
   ]
  },
  {
   "cell_type": "markdown",
   "metadata": {},
   "source": [
    "Next, let's find best model that fits data well. We can use __*fit*__ function here and definitions of input parameters are as follows,\n",
    "\n",
    "- first 2 parameters - training __*xx*__ data __*yy*__ data\n",
    "- validation_data - test __*xx*__ and __*yy*__ data as a tuple\n",
    "- epochs - number of times model will go through entire dataset minimizing loss\n",
    "- batch_size - while model going through whole dataset to adjust weights that minimize the loss. Model will consider only this amount of data at a time to adjust model parameters. If this value is too large and memory is limited, there will be some errors related to memory. In such cases, better to select smaller batch size.\n",
    "\n",
    "There are more option available with the __*fit*__ function. For more information, please check Tensorflow (Keras) documentation."
   ]
  },
  {
   "cell_type": "code",
   "execution_count": 6,
   "metadata": {
    "colab": {},
    "colab_type": "code",
    "id": "f2cUMo3ghAaJ",
    "scrolled": true
   },
   "outputs": [],
   "source": [
    "'''fitting model'''\n",
    "\n",
    "history = model.fit(xx_train, yy_train, validation_data=(xx_test, yy_test), epochs=100, batch_size=10, verbose=0)"
   ]
  },
  {
   "cell_type": "markdown",
   "metadata": {},
   "source": [
    "*Note: if we set __verbose=1__ option of __fit__ function, we can see the loss for training dataset (__loss__) and loss for test dataset (__val_loss__) for each epoch.*\n",
    "\n",
    "Losses corresponding to each epoch is saved in to __*history*__ variable in above example. Now we can plot the loss curves of training and test parts of the dataset as below,"
   ]
  },
  {
   "cell_type": "code",
   "execution_count": 7,
   "metadata": {
    "colab": {
     "base_uri": "https://localhost:8080/",
     "height": 295
    },
    "colab_type": "code",
    "executionInfo": {
     "elapsed": 842,
     "status": "ok",
     "timestamp": 1586144936859,
     "user": {
      "displayName": "lakmal Lakmal",
      "photoUrl": "",
      "userId": "15890829342024976793"
     },
     "user_tz": -420
    },
    "id": "zLM1IEI0ivGH",
    "outputId": "a5189f28-a654-4f9b-cc5a-aaf376fc433b"
   },
   "outputs": [
    {
     "data": {
      "image/png": "[encoded data removed]",
      "text/plain": [
       "<Figure size 432x288 with 1 Axes>"
      ]
     },
     "metadata": {},
     "output_type": "display_data"
    }
   ],
   "source": [
    "plt.plot(history.history['loss'])\n",
    "plt.plot(history.history['val_loss'])\n",
    "plt.title('Model Loss')\n",
    "plt.ylabel('Loss')\n",
    "plt.xlabel('Epoch')\n",
    "plt.legend(['Train', 'Test'], loc='upper right')\n",
    "plt.show()"
   ]
  },
  {
   "cell_type": "markdown",
   "metadata": {},
   "source": [
    "This curve is a very important curve to figure out what is the optimum number of epoch that we need to run. Here we are encountering 2 new important concepts in deep learning called over-fitting and under-fitting. Briefly,\n",
    "\n",
    "    - Over-fitting - when loss of test dataset started to increate after some number of epochs while loss of training dataset is still decreasing. This means model is not generalizing and training need to be stopped before overfitting.\n",
    "    \n",
    "    - Under-fitting - model stops while both loss of test and training dataset are still going down. That means training process is stopped pre-maturely and model need to be trained more.\n",
    "    \n",
    "Example over-fitting loss curve of test dataset:\n",
    "<img src=\"./graphics/overfitting.png\" width=\"66%\"/>\n",
    "\n",
    "There are lots of important statistical theories about over-fitting and under-fitting which are worth exploring more. But in summary, we should avoid over-fitting and under-fitting during training process in order to achieve optimum level of training.\n",
    "\n",
    "Finally, we can use trained model for prediction. To evaluate the model, it's always better to use test dataset because model has never seen the data in the test dataset during the training process. So evaluation on test dataset indicates how model will perform when model encounters new data."
   ]
  },
  {
   "cell_type": "code",
   "execution_count": 8,
   "metadata": {
    "colab": {
     "base_uri": "https://localhost:8080/",
     "height": 185
    },
    "colab_type": "code",
    "executionInfo": {
     "elapsed": 895,
     "status": "ok",
     "timestamp": 1586152916117,
     "user": {
      "displayName": "lakmal Lakmal",
      "photoUrl": "",
      "userId": "15890829342024976793"
     },
     "user_tz": -420
    },
    "id": "2GghEzpMmv_1",
    "outputId": "d2945fc6-cd60-4f56-aabe-0c7e86d9c8f6"
   },
   "outputs": [
    {
     "name": "stdout",
     "output_type": "stream",
     "text": [
      "Predicted: 201.15215, Actual: 236.0\n"
     ]
    }
   ],
   "source": [
    "'''Prediction over the test dataset'''\n",
    "pred_test = model.predict(xx_test)\n",
    "\n",
    "#let's compare sample predicted and actual y values \n",
    "print('Predicted: '+str(pred_test[12][0])+', Actual: '+str(yy_test[12]))"
   ]
  },
  {
   "cell_type": "markdown",
   "metadata": {
    "colab_type": "text",
    "id": "4TGXk2sPl5YJ"
   },
   "source": [
    "*Exercise: Calculate RMSE Loss over the test dataset*\n",
    "\n",
    "Like in this example, many neural networks applications have similar patterns, in summary what often we have to do is,\n",
    "\n",
    "    1) Read and pre-process data\n",
    "    2) Split dataset in to training and test datasets (randomly)\n",
    "    3) Define the model, loss function and optimizer\n",
    "    4) Fit, validate and prediction\n",
    "\n",
    "Even though, just simple intuitive explanation are given here. There are lots of interesting mathematics going on under the hood. If you are interested, dig deep in to mathematics behind optimizers, neural network architectures, over-fitting / under-fitting, etc."
   ]
  },
  {
   "cell_type": "markdown",
   "metadata": {
    "colab_type": "text",
    "id": "5r_af1GSEaCU"
   },
   "source": [
    "## 2) Classification (2 Classes) with Neural Networks\n",
    "\n",
    "In the last example, we have used neural network to estimate blood sugar level which is a continuous variable. That problem is referred as the regression problem. And now, we will move in to the classification problem. In the classification problem, we have to classify input variable in to a class. Let's start with clarification problem of 2 classes.\n",
    "\n",
    "Here we will use \"Breast Cancer Wisconsin (Diagnostic)\" Data Set from sklearn library"
   ]
  },
  {
   "cell_type": "code",
   "execution_count": 25,
   "metadata": {
    "colab": {
     "base_uri": "https://localhost:8080/",
     "height": 319
    },
    "colab_type": "code",
    "executionInfo": {
     "elapsed": 872,
     "status": "ok",
     "timestamp": 1586152775261,
     "user": {
      "displayName": "lakmal Lakmal",
      "photoUrl": "",
      "userId": "15890829342024976793"
     },
     "user_tz": -420
    },
    "id": "w7pkOwdAmHi7",
    "outputId": "4ef4743b-12b7-4f6a-9247-ee747092266b"
   },
   "outputs": [
    {
     "name": "stdout",
     "output_type": "stream",
     "text": [
      "(569, 30)\n",
      "(569,)\n",
      "Class values in yy:[0 1]\n"
     ]
    }
   ],
   "source": [
    "xx,yy = datasets.load_breast_cancer(return_X_y=True)\n",
    "\n",
    "print(xx.shape)\n",
    "print(yy.shape)\n",
    "\n",
    "print('Class values in yy:' + str(np.unique(yy)))"
   ]
  },
  {
   "cell_type": "markdown",
   "metadata": {},
   "source": [
    "This dataset includes 569 data points, 30 input variables, and a single output variable representing weather breast cancer present or not (value 0 or 1).\n",
    "\n",
    "As before, first let's divide training and test datasets."
   ]
  },
  {
   "cell_type": "code",
   "execution_count": 26,
   "metadata": {
    "colab": {},
    "colab_type": "code",
    "id": "OaowXAGggl5d"
   },
   "outputs": [],
   "source": [
    "'''splitting training and test set'''\n",
    "\n",
    "split_pnt = int(569 * 0.66) # consider 2/3 as the split point. 66.66 % for training set, and 0.33 % for test set.\n",
    "\n",
    "xx_train = xx[:split_pnt,:]\n",
    "yy_train = yy[:split_pnt]\n",
    "\n",
    "xx_test = xx[split_pnt:,:]\n",
    "yy_test = yy[split_pnt:]"
   ]
  },
  {
   "cell_type": "markdown",
   "metadata": {},
   "source": [
    "Second, let’s define neural network. \n",
    "\n",
    "The main different here is use of __*sigmoid*__ activation at the last layer of the neural network. Since we are performing 2 class classification problem here, output should be either value 0 or 1. So, it's appropriate to use an activation function that scales output values between 0 and 1. Hence __*sigmoid*__ is the ideal function for 2 class classification problem."
   ]
  },
  {
   "cell_type": "code",
   "execution_count": 34,
   "metadata": {
    "colab": {},
    "colab_type": "code",
    "id": "GJwSrIl7EBqe"
   },
   "outputs": [],
   "source": [
    "'''define neural network architecture'''\n",
    "\n",
    "model = Sequential()\n",
    "\n",
    "model.add(Dense(8, input_dim=30, activation='relu'))\n",
    "model.add(Dense(8, activation='relu'))\n",
    "model.add(Dense(8, activation='relu'))\n",
    "model.add(Dense(1, activation='sigmoid'))\n",
    "\n",
    "model.compile(loss='mean_squared_error', optimizer='adam')"
   ]
  },
  {
   "cell_type": "markdown",
   "metadata": {},
   "source": [
    "Finally let's fit, plot the loss curves and validate the model."
   ]
  },
  {
   "cell_type": "code",
   "execution_count": 35,
   "metadata": {
    "scrolled": true
   },
   "outputs": [],
   "source": [
    "history = model.fit(xx_train, yy_train, validation_data=(xx_test, yy_test), epochs=100, batch_size=10, verbose=0)"
   ]
  },
  {
   "cell_type": "code",
   "execution_count": 36,
   "metadata": {},
   "outputs": [
    {
     "data": {
      "image/png": "[encoded data removed]",
      "text/plain": [
       "<Figure size 432x288 with 1 Axes>"
      ]
     },
     "metadata": {},
     "output_type": "display_data"
    }
   ],
   "source": [
    "plt.plot(history.history['loss'])\n",
    "plt.plot(history.history['val_loss'])\n",
    "plt.title('Model Loss')\n",
    "plt.ylabel('Loss')\n",
    "plt.xlabel('Epoch')\n",
    "plt.legend(['Train', 'Test'], loc='upper right')\n",
    "plt.show()"
   ]
  },
  {
   "cell_type": "code",
   "execution_count": 37,
   "metadata": {
    "colab": {
     "base_uri": "https://localhost:8080/",
     "height": 202
    },
    "colab_type": "code",
    "executionInfo": {
     "elapsed": 6232,
     "status": "ok",
     "timestamp": 1586153103879,
     "user": {
      "displayName": "lakmal Lakmal",
      "photoUrl": "",
      "userId": "15890829342024976793"
     },
     "user_tz": -420
    },
    "id": "lO1rO1tPFFQV",
    "outputId": "c7c8bb68-7f19-4571-b0a1-cac63c17a0c5"
   },
   "outputs": [
    {
     "name": "stdout",
     "output_type": "stream",
     "text": [
      "Predicted: 0.0, Actual: 0\n"
     ]
    }
   ],
   "source": [
    "'''Prediction over the test dataset'''\n",
    "pred_test = model.predict(xx_test)\n",
    "\n",
    "#let's compare sample predicted and actual y values \n",
    "print('Predicted: '+str(np.round(pred_test[18][0]))+', Actual: '+str(yy_test[18]))"
   ]
  },
  {
   "cell_type": "markdown",
   "metadata": {},
   "source": [
    "*Exercise: Calculate confusion matrix and total accuracy over the test dataset*"
   ]
  },
  {
   "cell_type": "markdown",
   "metadata": {
    "colab_type": "text",
    "id": "36tIvEyhF-OM"
   },
   "source": [
    "## 3) Classification (Multi Classes) with Neural Networks\n",
    "\n",
    "Let's move in to a multi-class classification problem. Here, we will use Iris dataset from sklearn library."
   ]
  },
  {
   "cell_type": "code",
   "execution_count": 38,
   "metadata": {
    "colab": {
     "base_uri": "https://localhost:8080/",
     "height": 218
    },
    "colab_type": "code",
    "executionInfo": {
     "elapsed": 2295,
     "status": "ok",
     "timestamp": 1586157977632,
     "user": {
      "displayName": "lakmal Lakmal",
      "photoUrl": "",
      "userId": "15890829342024976793"
     },
     "user_tz": -420
    },
    "id": "zRXAZ0-LFSgt",
    "outputId": "e957b148-8487-4b93-b043-82188664b6d5"
   },
   "outputs": [
    {
     "name": "stdout",
     "output_type": "stream",
     "text": [
      "(150, 4)\n",
      "(150,)\n",
      "Class values in yy:[0 1 2]\n",
      "yy values: [0 0 0 0 0 0 0 0 0 0 0 0 0 0 0 0 0 0 0 0 0 0 0 0 0 0 0 0 0 0 0 0 0 0 0 0 0\n",
      " 0 0 0 0 0 0 0 0 0 0 0 0 0 1 1 1 1 1 1 1 1 1 1 1 1 1 1 1 1 1 1 1 1 1 1 1 1\n",
      " 1 1 1 1 1 1 1 1 1 1 1 1 1 1 1 1 1 1 1 1 1 1 1 1 1 1 2 2 2 2 2 2 2 2 2 2 2\n",
      " 2 2 2 2 2 2 2 2 2 2 2 2 2 2 2 2 2 2 2 2 2 2 2 2 2 2 2 2 2 2 2 2 2 2 2 2 2\n",
      " 2 2]\n"
     ]
    }
   ],
   "source": [
    "xx, yy = datasets.load_iris(return_X_y=True)\n",
    "\n",
    "print(xx.shape)\n",
    "print(yy.shape)\n",
    "\n",
    "print('Class values in yy:' + str(np.unique(yy)))\n",
    "print('yy values: '+str(yy))"
   ]
  },
  {
   "cell_type": "markdown",
   "metadata": {},
   "source": [
    "This dataset includes 150 data points, 4 input variables, and single output variable representing class of data points. There are 3 classes (class 0, class 1 and class 2).\n",
    "\n",
    "In this example, we can label our classes arbitrarily. We can use any number to indicate any class as we use here (values of 0, 1 and 2). Another problem associated with this numbering is, this numbers infer that in terms of values, these class labels are depended (like __*class 2 value*__ = __*class 1 value*__ times __*2*__, etc.). So these class labels should be independent. To solve this, we use a technique call one-hot encoding.\n",
    "\n",
    "Tensorflow (Keras) library include function for this. First, let's try it and see what it produces."
   ]
  },
  {
   "cell_type": "code",
   "execution_count": 39,
   "metadata": {
    "colab": {},
    "colab_type": "code",
    "id": "IZBGQ1l8HFx1"
   },
   "outputs": [
    {
     "name": "stdout",
     "output_type": "stream",
     "text": [
      "Class label shape: (150,)\n",
      "One-hot encoded shape: (150, 3)\n",
      "Example - Class label: 0, One-hot encoded: [1. 0. 0.]\n",
      "Example - Class label: 2, One-hot encoded: [0. 0. 1.]\n"
     ]
    },
    {
     "name": "stderr",
     "output_type": "stream",
     "text": [
      "Using TensorFlow backend.\n"
     ]
    }
   ],
   "source": [
    "'''one-hot encoding'''\n",
    "\n",
    "from keras.utils import to_categorical\n",
    "\n",
    "yy_cat = to_categorical(yy)\n",
    "\n",
    "# let's print shapes and example one-hot encoded value\n",
    "print('Class label shape: '+str(yy.shape))\n",
    "print('One-hot encoded shape: '+str(yy_cat.shape))\n",
    "\n",
    "print('Example - Class label: '+str(yy[10])+', One-hot encoded: '+str(yy_cat[10,:]))\n",
    "print('Example - Class label: '+str(yy[100])+', One-hot encoded: '+str(yy_cat[100,:]))"
   ]
  },
  {
   "cell_type": "markdown",
   "metadata": {},
   "source": [
    "We can see that in the process of one-hot encoding, vector was created for each __*yy*__ value with the length equivalent to number of classes. And value of the vector become 1 where index of the vector equals to class label leaving remaining values are as zeros. This process allow us to create interdependent class labels. If you are familiar with Linear Algebra, this is like independent basis for R^3 vector space. In summary, we use one-hot encoding to make class independent labels and this is very useful when it comes to multi-class classification problem.\n",
    "\n",
    "As before, now let's divide training and test datasets. But there is another issue here. If we look at the __*yy*__ values, they are like already sorted. So if we divide this data in to training and test set, first part which consisted of only __*class 1*__ and __*class 2*__ will be in the training set, and latter part (only __*class 3*__) will be in the test set. This is not representative of the whole dataset. So before we split the dataset in to training and test set, we have to randomize the dataset. For this process, we can use an in-built function with shuffle option in sklearn library."
   ]
  },
  {
   "cell_type": "code",
   "execution_count": 40,
   "metadata": {},
   "outputs": [
    {
     "name": "stdout",
     "output_type": "stream",
     "text": [
      "(100, 4)\n",
      "(50, 4)\n",
      "(100, 3)\n",
      "(50, 3)\n"
     ]
    }
   ],
   "source": [
    "from sklearn.model_selection import train_test_split\n",
    "\n",
    "xx_train, xx_test, yy_train, yy_test = train_test_split(xx, yy_cat, test_size=0.33, shuffle=True)\n",
    "\n",
    "# print shapes to make sure the split\n",
    "print(xx_train.shape)\n",
    "print(xx_test.shape)\n",
    "print(yy_train.shape)\n",
    "print(yy_test.shape)"
   ]
  },
  {
   "cell_type": "markdown",
   "metadata": {},
   "source": [
    "Finally let's define the model, fit, plot the loss curves and validate the model."
   ]
  },
  {
   "cell_type": "code",
   "execution_count": 41,
   "metadata": {
    "colab": {
     "base_uri": "https://localhost:8080/",
     "height": 231
    },
    "colab_type": "code",
    "executionInfo": {
     "elapsed": 925,
     "status": "error",
     "timestamp": 1589778912317,
     "user": {
      "displayName": "lakmal Lakmal",
      "photoUrl": "",
      "userId": "15890829342024976793"
     },
     "user_tz": -420
    },
    "id": "oQUi2JTUIlwX",
    "outputId": "7678dad4-a1a7-4656-f949-5e1dc458e089"
   },
   "outputs": [],
   "source": [
    "model = Sequential()\n",
    "\n",
    "model.add(Dense(32, input_dim=4, activation='relu'))\n",
    "model.add(Dense(32, activation='relu'))\n",
    "model.add(Dense(32, activation='relu'))\n",
    "model.add(Dense(3, activation='softmax'))\n",
    "\n",
    "model.compile(loss='categorical_crossentropy', optimizer='adam')"
   ]
  },
  {
   "cell_type": "markdown",
   "metadata": {},
   "source": [
    "One unique thing is use of __*softmax*__ as the activation function in the last layer. This works well with classification problems. Simply, it converts output values in to probabilities, brining output values to be compatible with one-hot encoded __*yy*__ values which varied between 0 and 1. Short description about __*softmax*__ activation can be seen in this nice short video.(https://www.youtube.com/watch?v=G8eNWzxOgqE)\n",
    "\n",
    "Other unique thing in this model is use of \"categorical cross-entropy\" as the loss function instead of \"mean squared error\". Experiments shows that \"categorical cross-entropy\" works well with the classification problem. Nice explanation about cross-entropy loss function can be seen here in this short video (https://www.youtube.com/watch?v=tRsSi_sqXjI). And even with the \"mean squared error\" function, model will work."
   ]
  },
  {
   "cell_type": "code",
   "execution_count": 42,
   "metadata": {},
   "outputs": [],
   "source": [
    "history = model.fit(xx_train, yy_train, validation_data=(xx_test, yy_test), epochs=100, batch_size=10, verbose=0)"
   ]
  },
  {
   "cell_type": "code",
   "execution_count": 43,
   "metadata": {
    "colab": {
     "base_uri": "https://localhost:8080/",
     "height": 295
    },
    "colab_type": "code",
    "executionInfo": {
     "elapsed": 1065,
     "status": "ok",
     "timestamp": 1586160067370,
     "user": {
      "displayName": "lakmal Lakmal",
      "photoUrl": "",
      "userId": "15890829342024976793"
     },
     "user_tz": -420
    },
    "id": "CsmBGI95I6cj",
    "outputId": "a85d7345-7b3d-4978-e768-690ce1c85714"
   },
   "outputs": [
    {
     "data": {
      "image/png": "[encoded data removed]",
      "text/plain": [
       "<Figure size 432x288 with 1 Axes>"
      ]
     },
     "metadata": {},
     "output_type": "display_data"
    }
   ],
   "source": [
    "plt.plot(history.history['loss'])\n",
    "plt.plot(history.history['val_loss'])\n",
    "plt.title('Model Loss')\n",
    "plt.ylabel('Loss')\n",
    "plt.xlabel('Epoch')\n",
    "plt.legend(['Train', 'Test'], loc='upper left')\n",
    "plt.show()"
   ]
  },
  {
   "cell_type": "code",
   "execution_count": 44,
   "metadata": {},
   "outputs": [
    {
     "name": "stdout",
     "output_type": "stream",
     "text": [
      "Predicted: [0. 0. 1.], Actual: [0. 0. 1.]\n"
     ]
    }
   ],
   "source": [
    "'''Prediction over the test dataset'''\n",
    "pred_test = model.predict(xx_test)\n",
    "\n",
    "#let's compare sample predicted and actual y values \n",
    "print('Predicted: '+str(np.round(pred_test[12]))+', Actual: '+str(yy_test[12]))"
   ]
  },
  {
   "cell_type": "code",
   "execution_count": 0,
   "metadata": {
    "colab": {},
    "colab_type": "code",
    "id": "TQe6NWLCjcok"
   },
   "outputs": [],
   "source": []
  }
 ],
 "metadata": {
  "accelerator": "TPU",
  "colab": {
   "authorship_tag": "ABX9TyNDNKVVwT+76g20vy7Jn0Ra",
   "collapsed_sections": [],
   "name": "NB_Part2.ipynb",
   "provenance": []
  },
  "kernelspec": {
   "display_name": "Python 3",
   "language": "python",
   "name": "python3"
  },
  "language_info": {
   "codemirror_mode": {
    "name": "ipython",
    "version": 3
   },
   "file_extension": ".py",
   "mimetype": "text/x-python",
   "name": "python",
   "nbconvert_exporter": "python",
   "pygments_lexer": "ipython3",
   "version": "3.6.2"
  }
 },
 "nbformat": 4,
 "nbformat_minor": 1
}
